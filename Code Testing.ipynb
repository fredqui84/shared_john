{
 "cells": [
  {
   "cell_type": "code",
   "execution_count": 22,
   "metadata": {},
   "outputs": [],
   "source": [
    "import pandas as pd\n",
    "import numpy as np\n",
    "from pandas import Series, DataFrame\n",
    "import matplotlib.pyplot as plt\n",
    "import seaborn as sns\n",
    "from datetime import datetime, date\n",
    "sns.set_style('whitegrid')\n",
    "%matplotlib inline"
   ]
  },
  {
   "cell_type": "code",
   "execution_count": 38,
   "metadata": {},
   "outputs": [
    {
     "data": {
      "text/html": [
       "<div>\n",
       "<style scoped>\n",
       "    .dataframe tbody tr th:only-of-type {\n",
       "        vertical-align: middle;\n",
       "    }\n",
       "\n",
       "    .dataframe tbody tr th {\n",
       "        vertical-align: top;\n",
       "    }\n",
       "\n",
       "    .dataframe thead th {\n",
       "        text-align: right;\n",
       "    }\n",
       "</style>\n",
       "<table border=\"1\" class=\"dataframe\">\n",
       "  <thead>\n",
       "    <tr style=\"text-align: right;\">\n",
       "      <th></th>\n",
       "      <th>Days</th>\n",
       "      <th>AvgPos</th>\n",
       "    </tr>\n",
       "  </thead>\n",
       "  <tbody>\n",
       "    <tr>\n",
       "      <th>103</th>\n",
       "      <td>115</td>\n",
       "      <td>-12</td>\n",
       "    </tr>\n",
       "    <tr>\n",
       "      <th>104</th>\n",
       "      <td>116</td>\n",
       "      <td>-15</td>\n",
       "    </tr>\n",
       "    <tr>\n",
       "      <th>105</th>\n",
       "      <td>117</td>\n",
       "      <td>-17</td>\n",
       "    </tr>\n",
       "    <tr>\n",
       "      <th>106</th>\n",
       "      <td>118</td>\n",
       "      <td>-14</td>\n",
       "    </tr>\n",
       "    <tr>\n",
       "      <th>107</th>\n",
       "      <td>119</td>\n",
       "      <td>-16</td>\n",
       "    </tr>\n",
       "  </tbody>\n",
       "</table>\n",
       "</div>"
      ],
      "text/plain": [
       "     Days  AvgPos\n",
       "103   115     -12\n",
       "104   116     -15\n",
       "105   117     -17\n",
       "106   118     -14\n",
       "107   119     -16"
      ]
     },
     "execution_count": 38,
     "metadata": {},
     "output_type": "execute_result"
    }
   ],
   "source": [
    "Echo58v4ah = pd.read_csv (r'ECHO PO AvgPos vs Days 58V4AH 2020-03-01--2020-06-30.csv')\n",
    "Echo58v4ah.tail()"
   ]
  },
  {
   "cell_type": "code",
   "execution_count": 24,
   "metadata": {},
   "outputs": [],
   "source": [
    "# Set up X1 as median Impressions\n",
    "X1 = Echo58v4ah.Days\n",
    "\n",
    "X1 = np.vstack(Echo58v4ah.Days)\n",
    "\n",
    "# Set up Y as the target Average Position.\n",
    "Y = Echo58v4ah.AvgPos\n",
    "\n"
   ]
  },
  {
   "cell_type": "code",
   "execution_count": 25,
   "metadata": {},
   "outputs": [
    {
     "data": {
      "text/plain": [
       "array([[  0,   1],\n",
       "       [  1,   1],\n",
       "       [  2,   1],\n",
       "       [  4,   1],\n",
       "       [  5,   1],\n",
       "       [  7,   1],\n",
       "       [  8,   1],\n",
       "       [  9,   1],\n",
       "       [ 10,   1],\n",
       "       [ 11,   1],\n",
       "       [ 12,   1],\n",
       "       [ 13,   1],\n",
       "       [ 14,   1],\n",
       "       [ 16,   1],\n",
       "       [ 17,   1],\n",
       "       [ 20,   1],\n",
       "       [ 22,   1],\n",
       "       [ 23,   1],\n",
       "       [ 24,   1],\n",
       "       [ 26,   1],\n",
       "       [ 27,   1],\n",
       "       [ 29,   1],\n",
       "       [ 30,   1],\n",
       "       [ 31,   1],\n",
       "       [ 32,   1],\n",
       "       [ 33,   1],\n",
       "       [ 34,   1],\n",
       "       [ 36,   1],\n",
       "       [ 37,   1],\n",
       "       [ 38,   1],\n",
       "       [ 39,   1],\n",
       "       [ 40,   1],\n",
       "       [ 41,   1],\n",
       "       [ 42,   1],\n",
       "       [ 43,   1],\n",
       "       [ 44,   1],\n",
       "       [ 45,   1],\n",
       "       [ 46,   1],\n",
       "       [ 47,   1],\n",
       "       [ 48,   1],\n",
       "       [ 49,   1],\n",
       "       [ 50,   1],\n",
       "       [ 51,   1],\n",
       "       [ 52,   1],\n",
       "       [ 53,   1],\n",
       "       [ 54,   1],\n",
       "       [ 57,   1],\n",
       "       [ 58,   1],\n",
       "       [ 59,   1],\n",
       "       [ 60,   1],\n",
       "       [ 61,   1],\n",
       "       [ 62,   1],\n",
       "       [ 63,   1],\n",
       "       [ 64,   1],\n",
       "       [ 65,   1],\n",
       "       [ 66,   1],\n",
       "       [ 67,   1],\n",
       "       [ 68,   1],\n",
       "       [ 69,   1],\n",
       "       [ 70,   1],\n",
       "       [ 72,   1],\n",
       "       [ 73,   1],\n",
       "       [ 74,   1],\n",
       "       [ 75,   1],\n",
       "       [ 76,   1],\n",
       "       [ 77,   1],\n",
       "       [ 78,   1],\n",
       "       [ 79,   1],\n",
       "       [ 80,   1],\n",
       "       [ 81,   1],\n",
       "       [ 82,   1],\n",
       "       [ 83,   1],\n",
       "       [ 84,   1],\n",
       "       [ 85,   1],\n",
       "       [ 86,   1],\n",
       "       [ 87,   1],\n",
       "       [ 88,   1],\n",
       "       [ 89,   1],\n",
       "       [ 90,   1],\n",
       "       [ 91,   1],\n",
       "       [ 92,   1],\n",
       "       [ 93,   1],\n",
       "       [ 94,   1],\n",
       "       [ 95,   1],\n",
       "       [ 96,   1],\n",
       "       [ 97,   1],\n",
       "       [ 98,   1],\n",
       "       [ 99,   1],\n",
       "       [100,   1],\n",
       "       [101,   1],\n",
       "       [102,   1],\n",
       "       [103,   1],\n",
       "       [104,   1],\n",
       "       [105,   1],\n",
       "       [106,   1],\n",
       "       [107,   1],\n",
       "       [108,   1],\n",
       "       [109,   1],\n",
       "       [110,   1],\n",
       "       [111,   1],\n",
       "       [112,   1],\n",
       "       [113,   1],\n",
       "       [114,   1],\n",
       "       [115,   1],\n",
       "       [116,   1],\n",
       "       [117,   1],\n",
       "       [118,   1],\n",
       "       [119,   1]])"
      ]
     },
     "execution_count": 25,
     "metadata": {},
     "output_type": "execute_result"
    }
   ],
   "source": [
    "\n",
    "\n",
    "\n",
    "\n",
    "\n",
    "A = X1*[1,0]\n",
    "\n",
    "X = A + [0,1]\n",
    "\n",
    "X\n"
   ]
  },
  {
   "cell_type": "code",
   "execution_count": 26,
   "metadata": {
    "scrolled": true
   },
   "outputs": [
    {
     "data": {
      "text/plain": [
       "(0.08023946505467325, -28.89505082214001)"
      ]
     },
     "execution_count": 26,
     "metadata": {},
     "output_type": "execute_result"
    }
   ],
   "source": [
    "m , b = np.linalg.lstsq(X,Y,rcond=None)[0]\n",
    "m , b"
   ]
  },
  {
   "cell_type": "code",
   "execution_count": 27,
   "metadata": {},
   "outputs": [
    {
     "data": {
      "text/plain": [
       "[<matplotlib.lines.Line2D at 0x23294606348>]"
      ]
     },
     "execution_count": 27,
     "metadata": {},
     "output_type": "execute_result"
    },
    {
     "data": {
      "image/png": "[encoded data removed]",
      "text/plain": [
       "<Figure size 432x288 with 1 Axes>"
      ]
     },
     "metadata": {
      "needs_background": "light"
     },
     "output_type": "display_data"
    }
   ],
   "source": [
    "# First the original points, AvgPos vs Days\n",
    "plt.plot(Echo58v4ah.Days,Echo58v4ah.AvgPos,'o')\n",
    "\n",
    "# Next the best fit line\n",
    "x= Echo58v4ah.Days\n",
    "plt.plot(x, m*x + b,'r',label='Best Fit Line')"
   ]
  },
  {
   "cell_type": "code",
   "execution_count": 28,
   "metadata": {},
   "outputs": [],
   "source": [
    "import sklearn\n",
    "from sklearn.linear_model import LinearRegression"
   ]
  },
  {
   "cell_type": "code",
   "execution_count": 29,
   "metadata": {},
   "outputs": [],
   "source": [
    "lreg = LinearRegression()"
   ]
  },
  {
   "cell_type": "code",
   "execution_count": 30,
   "metadata": {},
   "outputs": [],
   "source": [
    "from sklearn.model_selection import cross_validate"
   ]
  },
  {
   "cell_type": "code",
   "execution_count": 31,
   "metadata": {},
   "outputs": [],
   "source": [
    "# Grab the output and set as X and Y test and train data sets!\n",
    "X_train, X_test, Y_train, Y_test = sklearn.model_selection.train_test_split(X,Y)"
   ]
  },
  {
   "cell_type": "code",
   "execution_count": 32,
   "metadata": {},
   "outputs": [
    {
     "name": "stdout",
     "output_type": "stream",
     "text": [
      "(81, 2)\n",
      "(27, 2)\n",
      "(81,)\n",
      "(27,)\n"
     ]
    }
   ],
   "source": [
    "# Print shapes of the training and testing data sets\n",
    "print(X_train.shape) \n",
    "print(X_test.shape)\n",
    "print(Y_train.shape)\n",
    "print(Y_test.shape)"
   ]
  },
  {
   "cell_type": "code",
   "execution_count": 33,
   "metadata": {},
   "outputs": [
    {
     "data": {
      "text/plain": [
       "LinearRegression(copy_X=True, fit_intercept=True, n_jobs=None, normalize=False)"
      ]
     },
     "execution_count": 33,
     "metadata": {},
     "output_type": "execute_result"
    }
   ],
   "source": [
    "# Create our regression object\n",
    "lreg = LinearRegression()\n",
    "\n",
    "# Once again do a linear regression, except only on the training sets this time\n",
    "lreg.fit(X_train,Y_train)"
   ]
  },
  {
   "cell_type": "code",
   "execution_count": 34,
   "metadata": {},
   "outputs": [],
   "source": [
    "# Predictions on training and testing sets\n",
    "pred_train = lreg.predict(X_train)\n",
    "pred_test = lreg.predict(X_test)"
   ]
  },
  {
   "cell_type": "code",
   "execution_count": 35,
   "metadata": {},
   "outputs": [
    {
     "name": "stdout",
     "output_type": "stream",
     "text": [
      "Fit a model X_train, and calculate MSE with Y_train: 32.93\n",
      "Fit a model X_train, and calculate MSE with X_test and Y_test: 42.23\n"
     ]
    }
   ],
   "source": [
    "print(\"Fit a model X_train, and calculate MSE with Y_train: %.2f\"  % np.mean((Y_train - pred_train) ** 2))\n",
    "    \n",
    "print(\"Fit a model X_train, and calculate MSE with X_test and Y_test: %.2f\"  %np.mean((Y_test - pred_test) ** 2))"
   ]
  },
  {
   "cell_type": "code",
   "execution_count": 36,
   "metadata": {},
   "outputs": [
    {
     "data": {
      "text/plain": [
       "Text(0.5, 1.0, 'Residual Plots')"
      ]
     },
     "execution_count": 36,
     "metadata": {},
     "output_type": "execute_result"
    },
    {
     "data": {
      "image/png": "[encoded data removed]",
      "text/plain": [
       "<Figure size 432x288 with 1 Axes>"
      ]
     },
     "metadata": {
      "needs_background": "light"
     },
     "output_type": "display_data"
    }
   ],
   "source": [
    "# Scatter plot the training data\n",
    "train = plt.scatter(pred_train,(Y_train-pred_train),c='b',alpha=0.5)\n",
    "\n",
    "# Scatter plot the testing data\n",
    "test = plt.scatter(pred_test,(Y_test-pred_test),c='r',alpha=0.5)\n",
    "\n",
    "# Plot a horizontal axis line at 0\n",
    "plt.hlines(y=0,xmin=-10,xmax=50)\n",
    "\n",
    "#Labels\n",
    "plt.legend((train,test),('Training','Test'),loc='lower left')\n",
    "plt.title('Residual Plots')"
   ]
  },
  {
   "cell_type": "code",
   "execution_count": 37,
   "metadata": {},
   "outputs": [
    {
     "data": {
      "text/plain": [
       "<matplotlib.axes._subplots.AxesSubplot at 0x23293a74cc8>"
      ]
     },
     "execution_count": 37,
     "metadata": {},
     "output_type": "execute_result"
    },
    {
     "data": {
      "image/png": "[encoded data removed]",
      "text/plain": [
       "<Figure size 432x288 with 1 Axes>"
      ]
     },
     "metadata": {
      "needs_background": "light"
     },
     "output_type": "display_data"
    }
   ],
   "source": [
    "# Residual plot of all the dataset using seaborn\n",
    "sns.residplot('Days', 'AvgPos', data = Echo58v4ah)"
   ]
  },
  {
   "cell_type": "code",
   "execution_count": null,
   "metadata": {},
   "outputs": [],
   "source": []
  },
  {
   "cell_type": "code",
   "execution_count": null,
   "metadata": {},
   "outputs": [],
   "source": []
  },
  {
   "cell_type": "code",
   "execution_count": null,
   "metadata": {},
   "outputs": [],
   "source": []
  },
  {
   "cell_type": "code",
   "execution_count": null,
   "metadata": {},
   "outputs": [],
   "source": []
  },
  {
   "cell_type": "code",
   "execution_count": null,
   "metadata": {},
   "outputs": [],
   "source": []
  }
 ],
 "metadata": {
  "kernelspec": {
   "display_name": "Python 3",
   "language": "python",
   "name": "python3"
  },
  "language_info": {
   "codemirror_mode": {
    "name": "ipython",
    "version": 3
   },
   "file_extension": ".py",
   "mimetype": "text/x-python",
   "name": "python",
   "nbconvert_exporter": "python",
   "pygments_lexer": "ipython3",
   "version": "3.7.6"
  }
 },
 "nbformat": 4,
 "nbformat_minor": 4
}
